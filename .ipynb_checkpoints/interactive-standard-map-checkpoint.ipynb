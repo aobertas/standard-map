{
 "cells": [
  {
   "cell_type": "code",
   "execution_count": null,
   "metadata": {},
   "outputs": [],
   "source": [
    "import numpy as np\n",
    "import matplotlib.pyplot as plt\n",
    "%matplotlib notebook"
   ]
  },
  {
   "cell_type": "code",
   "execution_count": null,
   "metadata": {},
   "outputs": [],
   "source": [
    "plt.rc('lines', linewidth=3, markersize=2)\n",
    "plt.rc('font', size=20, family='serif', weight=300)\n",
    "plt.rc('mathtext', fontset = 'dejavuserif')\n",
    "plt.rc('axes', linewidth=2)\n",
    "plt.rc('patch', linewidth=3)\n",
    "plt.rc('xtick.major', width=1.5, size=6)\n",
    "plt.rc('ytick.major', width=1.5, size=6)"
   ]
  },
  {
   "cell_type": "code",
   "execution_count": null,
   "metadata": {},
   "outputs": [],
   "source": [
    "# define standard map function to transform (I, theta) to (I', theta')\n",
    "\n",
    "def map_fn(I, theta, k_0):\n",
    "    new_I = np.mod(I + k_0 * np.sin(theta), 2*np.pi)\n",
    "    new_theta = np.mod(theta + new_I, 2*np.pi)\n",
    "    return new_I, new_theta"
   ]
  },
  {
   "cell_type": "code",
   "execution_count": null,
   "metadata": {},
   "outputs": [],
   "source": [
    "# set number of timesteps and I, theta arrays\n",
    "\n",
    "n = 1000 \n",
    "\n",
    "k0 = 0.5\n",
    "k1 = 0.9\n",
    "k2 = 1.2\n",
    "k3 = 1.8\n",
    "\n",
    "I = np.zeros(n+1)\n",
    "theta = np.zeros(n+1)"
   ]
  },
  {
   "cell_type": "code",
   "execution_count": null,
   "metadata": {},
   "outputs": [],
   "source": [
    "# define class to run a map based on where you've clicked\n",
    "\n",
    "%matplotlib notebook\n",
    "\n",
    "fig, ax = plt.subplots(2, 2, figsize=(8,8), sharex=True, sharey=True)\n",
    "\n",
    "ax0 = ax[0,0]\n",
    "ax1 = ax[0,1]\n",
    "ax2 = ax[1,0]\n",
    "ax3 = ax[1,1]\n",
    "\n",
    "ax0.set_xlim([0,2*np.pi])\n",
    "ax0.set_ylim([0,2*np.pi])\n",
    "ax0.set_ylabel('$I$')\n",
    "ax0.set_title('$k_0 =' + str(k0) + '$')\n",
    "\n",
    "ax1.set_xlim([0,2*np.pi])\n",
    "ax1.set_ylim([0,2*np.pi])\n",
    "ax1.set_title('$k_0 =' + str(k1) + '$')\n",
    "\n",
    "ax2.set_xlim([0,2*np.pi])\n",
    "ax2.set_ylim([0,2*np.pi])\n",
    "ax2.set_xlabel('$\\phi$')\n",
    "ax2.set_ylabel('$I$')\n",
    "ax2.set_title('$k_0 =' + str(k2) + '$')\n",
    "\n",
    "ax3.set_xlim([0,2*np.pi])\n",
    "ax3.set_ylim([0,2*np.pi])\n",
    "ax3.set_xlabel('$\\phi$')\n",
    "ax3.set_title('$k_0 =' + str(k3) + '$')\n",
    "\n",
    "def RunMap(event):\n",
    "    ax =  event.inaxes\n",
    "    if ax == ax0:\n",
    "        k = k0\n",
    "    elif ax == ax1:\n",
    "        k = k1\n",
    "    elif ax == ax2:\n",
    "        k = k2\n",
    "    else:\n",
    "        k = k3\n",
    "    I[0] = event.ydata\n",
    "    theta[0] = event.xdata\n",
    "    for i in range(1,n+1):\n",
    "        I[i], theta[i] = map_fn(I[i-1], theta[i-1], k)\n",
    "    ax.plot(theta, I, '.')\n",
    "    event.canvas.draw()\n",
    "\n",
    "fig.canvas.mpl_connect('button_press_event', RunMap)"
   ]
  },
  {
   "cell_type": "code",
   "execution_count": null,
   "metadata": {},
   "outputs": [],
   "source": []
  },
  {
   "cell_type": "code",
   "execution_count": null,
   "metadata": {},
   "outputs": [],
   "source": []
  }
 ],
 "metadata": {
  "kernelspec": {
   "display_name": "Python 3",
   "language": "python",
   "name": "python3"
  },
  "language_info": {
   "codemirror_mode": {
    "name": "ipython",
    "version": 3
   },
   "file_extension": ".py",
   "mimetype": "text/x-python",
   "name": "python",
   "nbconvert_exporter": "python",
   "pygments_lexer": "ipython3",
   "version": "3.5.4"
  }
 },
 "nbformat": 4,
 "nbformat_minor": 2
}
